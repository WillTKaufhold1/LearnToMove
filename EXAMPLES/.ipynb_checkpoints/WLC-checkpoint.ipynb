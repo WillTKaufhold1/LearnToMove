{
 "cells": [
  {
   "cell_type": "code",
   "execution_count": 1,
   "metadata": {},
   "outputs": [],
   "source": [
    "import numpy as np\n",
    "import pandas as pd\n",
    "import matplotlib.pyplot as plt\n",
    "%matplotlib inline"
   ]
  },
  {
   "cell_type": "code",
   "execution_count": 2,
   "metadata": {},
   "outputs": [],
   "source": [
    "#let's write a super simple MD system."
   ]
  },
  {
   "cell_type": "code",
   "execution_count": 20,
   "metadata": {},
   "outputs": [],
   "source": [
    "def run_simulation():\n",
    "    import hoomd\n",
    "    import hoomd.md\n",
    "    hoomd.context.initialize(\"\")\n",
    "    #create snapshot\n",
    "    snapshot = hoomd.data.make_snapshot(N=5,\n",
    "                                        box = hoomd.data.boxdim(Lx=50, Ly=50,Lz = 50),\n",
    "                                        particle_types = ['A'],\n",
    "                                        bond_types=['dna']\n",
    "                                       )\n",
    "    snapshot.particles.position[:] = [\n",
    "        [0,0,0],\n",
    "        [1,0,0],\n",
    "        [2,0,0],\n",
    "        [3,0,0],\n",
    "        [4,0,0]\n",
    "            ]\n",
    "    snapshot.particles.typeid[:] = 0\n",
    "    \n",
    "    snapshot.bonds.resize(5)\n",
    "    snapshot.bonds.group[:] = [[0,1],[1,2],[2,3],[0,4],[3,4]]\n",
    "    \n",
    "    hoomd.init.read_snapshot(snapshot)\n",
    "    \n",
    "    nl = hoomd.md.nlist.tree()\n",
    "    \n",
    "    lj = hoomd.md.pair.lj(r_cut=2.5, nlist=nl);\n",
    "    lj.pair_coeff.set('A','A',epsilon = 1,sigma = 1)\n",
    "    \n",
    "    harmonic = hoomd.md.bond.harmonic()\n",
    "    harmonic.bond_coeff.set('dna', k=100.0, r0=1);\n",
    "    \n",
    "    hoomd.md.integrate.mode_standard(dt=0.005);\n",
    "    all = hoomd.group.all();\n",
    "    hoomd.md.integrate.langevin(group=all, kT=0.2, seed=42);\n",
    "    \n",
    "    hoomd.md.update.zero_momentum(period = 10)\n",
    "    \n",
    "    hoomd.analyze.log(filename=\"log-output.log\",\n",
    "                  quantities=['potential_energy', 'temperature'],\n",
    "                  period=100,\n",
    "                  overwrite=True);\n",
    "\n",
    "    hoomd.dump.gsd(\"trajectory.gsd\", period=2e3, group=all, overwrite=True);\n",
    "    hoomd.run(1e7);\n"
   ]
  },
  {
   "cell_type": "code",
   "execution_count": null,
   "metadata": {},
   "outputs": [],
   "source": [
    "def get_distances_distribution():\n",
    "    "
   ]
  },
  {
   "cell_type": "code",
   "execution_count": 21,
   "metadata": {},
   "outputs": [],
   "source": [
    "#now we actually optimize for something important!\n",
    "#genotype-phenotype mapping."
   ]
  },
  {
   "cell_type": "code",
   "execution_count": 22,
   "metadata": {},
   "outputs": [
    {
     "name": "stdout",
     "output_type": "stream",
     "text": [
      "notice(2): Group \"all\" created containing 5 particles\n",
      "-----\n",
      "You are using tree neighbor lists. Please cite the following:\n",
      "* M P Howard, J A Anderson, A Nikoubashman, S C Glotzer, and A Z\n",
      "  Panagiotopoulos. \"Efficient neighbor list calculation for molecular simulation\n",
      "  of colloidal systems using graphics processing units\", Computer Physics\n",
      "  Communications 203 (2016) 45--52\n",
      "* M P Howard, A Statt, F Madutsa, T M Truskett, and A Z Panagiotopoulos.\n",
      "  \"Quantized bounding volume hierarchies for neighbor search in molecular\n",
      "  simulations on graphics processing units\", Computational Materials Science 164\n",
      "  (2019) 139--146\n",
      "-----\n",
      "notice(2): integrate.langevin/bd is using specified gamma values\n",
      "notice(2): -- Neighborlist exclusion statistics -- :\n",
      "notice(2): Particles with 2 exclusions             : 5\n",
      "notice(2): Neighbors included by diameter          : no\n",
      "notice(2): Neighbors excluded when in the same body: no\n",
      "** starting run **\n",
      "Time 00:00:10 | Step 4827065 / 10000000 | TPS 482706 | ETA 00:00:10\n",
      "Time 00:00:17 | Step 10000000 / 10000000 | TPS 656599 | ETA 00:00:00\n",
      "Average TPS: 559310\n",
      "---------\n",
      "-- Neighborlist stats:\n",
      "106655 normal updates / 100000 forced updates / 0 dangerous updates\n",
      "n_neigh_min: 0 / n_neigh_max: 2 / n_neigh_avg: 1\n",
      "shortest rebuild period: 3\n",
      "** run complete **\n"
     ]
    }
   ],
   "source": [
    "run_simulation()"
   ]
  },
  {
   "cell_type": "code",
   "execution_count": 24,
   "metadata": {},
   "outputs": [
    {
     "data": {
      "text/plain": [
       "[<matplotlib.lines.Line2D at 0x7f810bad4550>]"
      ]
     },
     "execution_count": 24,
     "metadata": {},
     "output_type": "execute_result"
    },
    {
     "data": {
      "image/png": "[encoded data removed]",
      "text/plain": [
       "<Figure size 432x288 with 1 Axes>"
      ]
     },
     "metadata": {
      "needs_background": "light"
     },
     "output_type": "display_data"
    }
   ],
   "source": [
    "import gsd.hoomd\n",
    "\n",
    "tmp = gsd.hoomd.open('./trajectory.gsd')\n",
    "\n",
    "x = []\n",
    "\n",
    "y = []\n",
    "\n",
    "for i in range(1000):\n",
    "    x.append(tmp.read_frame(i).particles.position[0][0])\n",
    "    y.append(tmp.read_frame(i).particles.position[0][1])\n",
    "\n",
    "plt.plot(x,y,'r--o')"
   ]
  },
  {
   "cell_type": "code",
   "execution_count": null,
   "metadata": {},
   "outputs": [],
   "source": []
  },
  {
   "cell_type": "code",
   "execution_count": null,
   "metadata": {},
   "outputs": [],
   "source": []
  },
  {
   "cell_type": "code",
   "execution_count": null,
   "metadata": {},
   "outputs": [],
   "source": []
  }
 ],
 "metadata": {
  "kernelspec": {
   "display_name": "Python 3.7.5 64-bit ('anaconda3': virtualenv)",
   "language": "python",
   "name": "python37564bitanaconda3virtualenv5502f1ad4100404a9d1a9ea1dd75d725"
  },
  "language_info": {
   "codemirror_mode": {
    "name": "ipython",
    "version": 3
   },
   "file_extension": ".py",
   "mimetype": "text/x-python",
   "name": "python",
   "nbconvert_exporter": "python",
   "pygments_lexer": "ipython3",
   "version": "3.7.5"
  }
 },
 "nbformat": 4,
 "nbformat_minor": 2
}
