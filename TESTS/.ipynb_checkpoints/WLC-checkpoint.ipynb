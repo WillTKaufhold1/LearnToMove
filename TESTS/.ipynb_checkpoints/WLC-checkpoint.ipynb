{
 "cells": [
  {
   "cell_type": "code",
   "execution_count": 2,
   "metadata": {},
   "outputs": [],
   "source": [
    "import numpy as np\n",
    "import pandas as pd\n",
    "import matplotlib.pyplot as plt\n",
    "%matplotlib inline"
   ]
  },
  {
   "cell_type": "code",
   "execution_count": 4,
   "metadata": {},
   "outputs": [],
   "source": [
    "#let's write a super simple MD system."
   ]
  },
  {
   "cell_type": "code",
   "execution_count": 6,
   "metadata": {},
   "outputs": [],
   "source": [
    "def run_simulation():\n",
    "    import hoomd\n",
    "    import hoomd.md\n",
    "    hoomd.context.initialize(\"\")\n",
    "    #create snapshot\n",
    "    snapshot = hoomd.data.make_snapshot(N=5,\n",
    "                                        box = hoomd.data.boxdim(Lx=10, Ly=10,Lz = 10),\n",
    "                                        particle_types = ['A'],\n",
    "                                        bond_types=['dna']\n",
    "                                       )\n",
    "    snapshot.particles.position[:] = [\n",
    "        [0,0,0],\n",
    "        [1,0,0],\n",
    "        [2,0,0],\n",
    "        [3,0,0],\n",
    "        [4,0,0]\n",
    "            ]\n",
    "    snapshot.particles.typeid[:] = 0\n",
    "    \n",
    "    snapshot.bonds.resize(9)\n",
    "    snapshot.bonds.group[:] = [[0,1],[1,2],[2,3],[0,4],[3,4]]\n",
    "    \n",
    "    hoomd.init.read_snapshot(snapshot)\n",
    "    \n",
    "    nl = hoomd.md.nlist.cell()\n",
    "    \n",
    "    \n",
    "    lj = hoomd.md.pair.lj(r_cut=2.5, nlist=nl);\n",
    "    harmonic = hoomd.md.bond.harmonic()\n",
    "    harmonic.bond_coeff.set('polymer', k=100.0, r0=1);\n",
    "    \n",
    "    \n",
    "    hoomd.md.integrate.mode_standard(dt=0.005);"
   ]
  },
  {
   "cell_type": "code",
   "execution_count": null,
   "metadata": {},
   "outputs": [],
   "source": []
  },
  {
   "cell_type": "code",
   "execution_count": null,
   "metadata": {},
   "outputs": [],
   "source": []
  }
 ],
 "metadata": {
  "kernelspec": {
   "display_name": "Python 3.7.5 64-bit ('anaconda3': virtualenv)",
   "language": "python",
   "name": "python37564bitanaconda3virtualenv5502f1ad4100404a9d1a9ea1dd75d725"
  },
  "language_info": {
   "codemirror_mode": {
    "name": "ipython",
    "version": 3
   },
   "file_extension": ".py",
   "mimetype": "text/x-python",
   "name": "python",
   "nbconvert_exporter": "python",
   "pygments_lexer": "ipython3",
   "version": "3.7.5"
  }
 },
 "nbformat": 4,
 "nbformat_minor": 2
}
